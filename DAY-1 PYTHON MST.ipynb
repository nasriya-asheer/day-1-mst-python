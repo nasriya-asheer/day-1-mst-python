{
 "cells": [
  {
   "cell_type": "code",
   "execution_count": 3,
   "id": "980b536a",
   "metadata": {},
   "outputs": [
    {
     "name": "stdout",
     "output_type": "stream",
     "text": [
      "Hello\n"
     ]
    }
   ],
   "source": [
    "# QS NO: 1\n",
    "a = \"Hello, world!\"\n",
    "print(a[:5])"
   ]
  },
  {
   "cell_type": "code",
   "execution_count": 5,
   "id": "d232a4db",
   "metadata": {},
   "outputs": [
    {
     "name": "stdout",
     "output_type": "stream",
     "text": [
      "is \n"
     ]
    }
   ],
   "source": [
    "# QS NO: 2\n",
    "b = \"Python is fun\"\n",
    "print(b[7:10])"
   ]
  },
  {
   "cell_type": "code",
   "execution_count": 7,
   "id": "8d929e77",
   "metadata": {},
   "outputs": [
    {
     "name": "stdout",
     "output_type": "stream",
     "text": [
      "gram\n"
     ]
    }
   ],
   "source": [
    "# QS NO:3\n",
    "c= \"Programming\"\n",
    "print(c[3:7])"
   ]
  },
  {
   "cell_type": "code",
   "execution_count": 11,
   "id": "a9299feb",
   "metadata": {},
   "outputs": [
    {
     "name": "stdout",
     "output_type": "stream",
     "text": [
      "bdfh\n"
     ]
    }
   ],
   "source": [
    "# QS NO:4\n",
    "d= \"abcdefgh\"\n",
    "print(d[1:8:2])"
   ]
  },
  {
   "cell_type": "code",
   "execution_count": 13,
   "id": "e472d59e",
   "metadata": {},
   "outputs": [
    {
     "name": "stdout",
     "output_type": "stream",
     "text": [
      "efg\n"
     ]
    }
   ],
   "source": [
    "# QS NO:5\n",
    "e= \"abcdefgh\"\n",
    "print(e[-4:-1])"
   ]
  },
  {
   "cell_type": "code",
   "execution_count": 14,
   "id": "9cf51a4f",
   "metadata": {},
   "outputs": [
    {
     "name": "stdout",
     "output_type": "stream",
     "text": [
      "nce\n"
     ]
    }
   ],
   "source": [
    "# QS NO:6\n",
    "f= \"Data Science\"\n",
    "print(f[-3:])"
   ]
  },
  {
   "cell_type": "code",
   "execution_count": 16,
   "id": "ae95efe1",
   "metadata": {},
   "outputs": [
    {
     "name": "stdout",
     "output_type": "stream",
     "text": [
      "bdfhj\n"
     ]
    }
   ],
   "source": [
    "# QS NO:7\n",
    "g= \"abcdefghij\"\n",
    "print(g[1::2])"
   ]
  },
  {
   "cell_type": "code",
   "execution_count": 17,
   "id": "1979de9e",
   "metadata": {},
   "outputs": [
    {
     "name": "stdout",
     "output_type": "stream",
     "text": [
      "13579\n"
     ]
    }
   ],
   "source": [
    "# QS NO:8\n",
    "h= \"1234567890\"\n",
    "print(h[::2])"
   ]
  },
  {
   "cell_type": "code",
   "execution_count": 24,
   "id": "c4f0bf1a",
   "metadata": {},
   "outputs": [
    {
     "name": "stdout",
     "output_type": "stream",
     "text": [
      "olleH\n"
     ]
    }
   ],
   "source": [
    "# QS NO:9\n",
    "i= \"Hello\"\n",
    "print(i[::-1])"
   ]
  },
  {
   "cell_type": "code",
   "execution_count": 25,
   "id": "48d3a16b",
   "metadata": {},
   "outputs": [
    {
     "name": "stdout",
     "output_type": "stream",
     "text": [
      "acegik\n"
     ]
    }
   ],
   "source": [
    "# QS NO:10\n",
    "j= \"abcdefghijk\"\n",
    "print(j[::2])"
   ]
  },
  {
   "cell_type": "code",
   "execution_count": null,
   "id": "4d7c50b2",
   "metadata": {},
   "outputs": [],
   "source": []
  }
 ],
 "metadata": {
  "kernelspec": {
   "display_name": "Python 3 (ipykernel)",
   "language": "python",
   "name": "python3"
  },
  "language_info": {
   "codemirror_mode": {
    "name": "ipython",
    "version": 3
   },
   "file_extension": ".py",
   "mimetype": "text/x-python",
   "name": "python",
   "nbconvert_exporter": "python",
   "pygments_lexer": "ipython3",
   "version": "3.11.5"
  }
 },
 "nbformat": 4,
 "nbformat_minor": 5
}
